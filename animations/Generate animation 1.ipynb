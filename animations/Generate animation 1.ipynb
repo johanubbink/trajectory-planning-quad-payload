{
 "cells": [
  {
   "cell_type": "code",
   "execution_count": 1,
   "metadata": {},
   "outputs": [],
   "source": [
    "import numpy as np\n",
    "import scipy.io as sio\n",
    "import sys\n",
    "import matplotlib.pyplot as plt\n",
    "from matplotlib import animation\n",
    "%matplotlib qt"
   ]
  },
  {
   "cell_type": "markdown",
   "metadata": {},
   "source": [
    "## Function to plot the boundaries"
   ]
  },
  {
   "cell_type": "code",
   "execution_count": 2,
   "metadata": {},
   "outputs": [],
   "source": [
    "def overlay_bounds():\n",
    "    #Add obstacles\n",
    "    points1 = [[-1, 0.2],[16,0.2],[16, 5],[30, 5],[30,4],[20,4],[20,-0.7],\n",
    "               [5.5,-0.7],[5.5,-0.45],[5,-0.45],[5,-0.7],[-1,-0.7],[-1,-0.7]]\n",
    "    polygon1 = plt.Polygon(points1, fill=None, edgecolor='tab:brown', lw = 3)\n",
    "    plt.gca().add_patch(polygon1)\n",
    "\n"
   ]
  },
  {
   "cell_type": "code",
   "execution_count": null,
   "metadata": {},
   "outputs": [],
   "source": []
  },
  {
   "cell_type": "markdown",
   "metadata": {},
   "source": [
    "## Load the data"
   ]
  },
  {
   "cell_type": "code",
   "execution_count": 3,
   "metadata": {},
   "outputs": [],
   "source": [
    "z = sio.loadmat('expected_trajectory.mat')['path_z_pos_dat'].ravel()\n",
    "x = sio.loadmat('expected_trajectory.mat')['path_x_pos_dat'].ravel().ravel()\n",
    "alpha = sio.loadmat('expected_trajectory.mat')['path_a_dat'].ravel().ravel()\n",
    "theta = sio.loadmat('expected_trajectory.mat')['path_theta_pos_dat'].ravel()\n",
    "L = sio.loadmat('expected_trajectory.mat')['L'][0][0]\n",
    "tout = sio.loadmat('expected_trajectory.mat')['tout'].ravel()"
   ]
  },
  {
   "cell_type": "markdown",
   "metadata": {},
   "source": [
    "## Some of the animation properties"
   ]
  },
  {
   "cell_type": "code",
   "execution_count": 4,
   "metadata": {},
   "outputs": [],
   "source": [
    "#Set path to use correct ffmpeg\n",
    "plt.rcParams['animation.ffmpeg_path'] = '/usr/bin/ffmpeg'\n",
    "quad_l = 0.2\n",
    "framerate = 25\n",
    "ts = 1/framerate\n",
    "dpi = 300"
   ]
  },
  {
   "cell_type": "markdown",
   "metadata": {},
   "source": [
    "## Interpolate the data"
   ]
  },
  {
   "cell_type": "code",
   "execution_count": 5,
   "metadata": {},
   "outputs": [],
   "source": [
    "tout_interp = np.arange(0,tout[-1] +ts,ts)\n",
    "z_interp = np.interp(tout_interp, tout, z)\n",
    "x_interp = np.interp(tout_interp, tout, x)\n",
    "alpha_interp = np.interp(tout_interp, tout, alpha)\n",
    "theta_interp = np.interp(tout_interp, tout, theta)"
   ]
  },
  {
   "cell_type": "code",
   "execution_count": 6,
   "metadata": {},
   "outputs": [
    {
     "data": {
      "text/plain": [
       "[<matplotlib.lines.Line2D at 0x7f17ce94fd00>]"
      ]
     },
     "execution_count": 6,
     "metadata": {},
     "output_type": "execute_result"
    }
   ],
   "source": [
    "plt.plot(alpha_interp)"
   ]
  },
  {
   "cell_type": "markdown",
   "metadata": {},
   "source": [
    "## Create the animation"
   ]
  },
  {
   "cell_type": "code",
   "execution_count": 8,
   "metadata": {},
   "outputs": [],
   "source": [
    "#Create and set figure\n",
    "fig = plt.figure()\n",
    "fig.set_dpi(dpi)\n",
    "fig.set_size_inches(12*1.5, 3*1.5)\n",
    "# plt.axis(\"equal\")\n",
    "ax = plt.axes(xlim=(-1, 27), ylim=(-1,6))\n",
    "\n",
    "#Create the components of the animation\n",
    "link = plt.Line2D((-1, 1), (-1, 1), lw=0.5)\n",
    "mass = plt.Circle((5, -5), 0.05, fc='b')\n",
    "quad = plt.Line2D((-1, 1), (-1, 1), lw=2,marker='.',markersize=2)\n",
    "\n",
    "#This function runs to initialize animation\n",
    "def init():\n",
    "    overlay_bounds()\n",
    "    ax.add_line(link)\n",
    "    ax.add_patch(mass)\n",
    "    ax.add_line(quad)\n",
    "    return link, mass, quad\n",
    "\n",
    "#function that is called by the animation\n",
    "def animate(i):\n",
    "    #Calculate positions\n",
    "    z_quad_center = z_interp[i]\n",
    "    x_quad_center = x_interp[i]\n",
    "    z_mass = z_quad_center-L*np.cos(alpha_interp[i])\n",
    "    x_mass = x_quad_center-L*np.sin(alpha_interp[i])\n",
    "    \n",
    "    x_quad = [x_quad_center - quad_l*np.cos(theta_interp[i])  , \n",
    "              x_quad_center + quad_l*np.cos(theta_interp[i])]\n",
    "    y_quad = [z_quad_center + quad_l*np.sin(theta_interp[i])  , \n",
    "              z_quad_center - quad_l*np.sin(theta_interp[i])]\n",
    "    \n",
    "    #update quad position\n",
    "    quad.set_xdata(x_quad)\n",
    "    quad.set_ydata(y_quad)\n",
    "    \n",
    "    #Update mass position\n",
    "    mass.center = (x_mass, z_mass)\n",
    "    \n",
    "    #Update link position\n",
    "    link.set_xdata([x_quad_center,x_mass])\n",
    "    link.set_ydata([z_quad_center,z_mass])\n",
    "    \n",
    "\n",
    "    return link, mass, quad\n",
    " \n",
    "\n",
    "\n",
    "anim = animation.FuncAnimation(fig, animate, \n",
    "                               init_func=init, \n",
    "                               frames=z_interp.shape[0], \n",
    "                               interval=ts,\n",
    "                               blit=True)\n",
    "anim.save(\"out2.mp4\",dpi = dpi, writer='ffmpeg')\n",
    "plt.show()\n",
    "# "
   ]
  },
  {
   "cell_type": "code",
   "execution_count": null,
   "metadata": {},
   "outputs": [],
   "source": []
  }
 ],
 "metadata": {
  "kernelspec": {
   "display_name": "Python 3",
   "language": "python",
   "name": "python3"
  },
  "language_info": {
   "codemirror_mode": {
    "name": "ipython",
    "version": 3
   },
   "file_extension": ".py",
   "mimetype": "text/x-python",
   "name": "python",
   "nbconvert_exporter": "python",
   "pygments_lexer": "ipython3",
   "version": "3.8.3"
  }
 },
 "nbformat": 4,
 "nbformat_minor": 4
}
