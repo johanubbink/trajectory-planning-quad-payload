{
 "cells": [
  {
   "cell_type": "markdown",
   "metadata": {},
   "source": [
    "# Path Planning Force Based"
   ]
  },
  {
   "cell_type": "markdown",
   "metadata": {},
   "source": [
    "In this notebook A* is applied to an quadrotor.\n",
    "\n",
    "Obstacle 1 has no obstacle, the quadrotor should only fly horizontally from one position to another"
   ]
  },
  {
   "cell_type": "code",
   "execution_count": null,
   "metadata": {},
   "outputs": [],
   "source": [
    "#import the needed libraries\n",
    "#%matplotlib notebook\n",
    "%matplotlib inline\n",
    "import numpy as np\n",
    "from Path_Search import *\n",
    "from Quadrotor_Load import *\n",
    "import matplotlib.pylab as plt\n",
    "import Node\n",
    "import scipy.io as sio"
   ]
  },
  {
   "cell_type": "code",
   "execution_count": null,
   "metadata": {},
   "outputs": [],
   "source": [
    "import matplotlib\n",
    "#used to create nice graph to use in latex\n",
    "matplotlib.rcParams['text.usetex'] = True\n",
    "matplotlib.rcParams['text.latex.unicode'] = True\n",
    "plt.rcParams['text.latex.preamble']=[r\"\\usepackage{lmodern}\"]\n",
    "params = {'text.usetex' : True,\n",
    "          'font.size' : 8,\n",
    "          'axes.labelsize': 8,\n",
    "          'axes.titlesize': 8,\n",
    "          'xtick.labelsize': 8,\n",
    "          'ytick.labelsize': 8,\n",
    "          'font.family': 'serif',\n",
    "          #'figure.figsize' : [5.8, 3.0],\n",
    "          'figure.figsize' : [3, 3],\n",
    "          'text.latex.unicode': True,\n",
    "          }\n",
    "plt.rcParams.update(params) \n",
    "#matplotlib.rcParams['pgf.rcfonts'] = False"
   ]
  },
  {
   "cell_type": "code",
   "execution_count": null,
   "metadata": {},
   "outputs": [],
   "source": [
    "#define constants for the model\n",
    "m = 0.5\n",
    "L = 0.5\n",
    "M = 1\n",
    "g = 9.81\n",
    "\n",
    "#calculate the natural frequencies for input shaping\n",
    "Td = 1.35\n",
    "ts = Td/4\n",
    "\n",
    "print (\"ts : \", ts)"
   ]
  },
  {
   "cell_type": "code",
   "execution_count": null,
   "metadata": {},
   "outputs": [],
   "source": [
    "#define the input space\n",
    "#Input Space 2\n",
    "#define the input space in the format ([y0, x0 , i0], [y1, x1, i1], [y2, x2, i3]...)\n",
    "#i is the input type\n",
    "# 1 = horizontal velocity\n",
    "# 2 = vertival velocity\n",
    "# 3 = force velocity\n",
    "A1 = 0.5783*2\n",
    "A2 = 0.4217*2 + 0.5783*2\n",
    "U = [np.array([[0, 0,1]]),\n",
    "     np.array([[0, A1,1],[0, A1,1],[0, A2,1],[0, A2,1]]),\n",
    "     np.array([[0, A2,1],[0, A2,1],[0, A2,1]]),\n",
    "     np.array([[0, 2-A1,1],[0, 2-A1,1],[0, 0,1],[0, 0,1]]),\n",
    "     np.array([[0, -A1,1],[0, -A1,1],[0, -A2,1],[0, -A2,1]]),\n",
    "     np.array([[0, -A2,1],[0, -A2,1],[0, -A2,1]]),\n",
    "     np.array([[0, -2+A1,1],[0, -2+A1,1],[0, 0,1],[0, 0,1]]),     \n",
    "     np.array([[1, 0,2]]),\n",
    "     np.array([[-1, 0,2]]),\n",
    "     np.array([[0, 7,0],[0, 7,0],[0, 7,0],[0,-7,0],[0, -7,0],[0, -7,0]])]     \n"
   ]
  },
  {
   "cell_type": "markdown",
   "metadata": {},
   "source": [
    "Define the necessary functions and states"
   ]
  },
  {
   "cell_type": "code",
   "execution_count": null,
   "metadata": {},
   "outputs": [],
   "source": [
    "#define the transition here\n",
    "def f(x,u):\n",
    "    #initialize a Quadcopter\n",
    "    quadrotor = Quadrotor(m=m)\n",
    "    #get result for given input and state\n",
    "    result,t = quadrotor.solve(ts, x, u[:,0], u[:,1], u[:,2], t_eval = 0.01)\n",
    "    return result"
   ]
  },
  {
   "cell_type": "code",
   "execution_count": null,
   "metadata": {},
   "outputs": [],
   "source": [
    "#defines if it is a valid input\n",
    "#receives the current state, input type, as well as parent input\n",
    "def valid_u(x,u_type,parent_u_type):\n",
    "    valid_in= np.array([ [False,False,False,True ,False,False,False,True ,True ,False],\n",
    "                         [True ,False,False,False,False,False,True ,False,False,False],\n",
    "                         [False,True ,True ,False,False,False,False,False,False,True ],\n",
    "                         [False,True ,True ,False,False,False,False,False,False,False],\n",
    "                         [True ,False,False,True ,False,False,True ,False,False,False],\n",
    "                         [False,False,False,False,True ,True ,False,False,False,False],\n",
    "                         [False,False,False,False,True ,True ,False,False,False,False],\n",
    "                         [True ,False,False,True ,False,False,True ,True ,False,False],\n",
    "                         [True ,False,False,True ,False,False,True ,False,True ,False],\n",
    "                         [False,True ,True ,False,False,False,False,False,False,False]])\n",
    "    return valid_in[u_type,parent_u_type]"
   ]
  },
  {
   "cell_type": "code",
   "execution_count": null,
   "metadata": {},
   "outputs": [],
   "source": [
    "#define initial state\n",
    "xi = [0,0,0,0,0,0]"
   ]
  },
  {
   "cell_type": "code",
   "execution_count": null,
   "metadata": {},
   "outputs": [],
   "source": [
    "#function to plot the nodes generated by the algorithm\n",
    "def plot_nodes_astar(node_list, ymin = None, ymax = None):\n",
    "    L = 0.5\n",
    "\n",
    "    #Add limits if necessary\n",
    "    if ymin != None:\n",
    "        plt.ylim(ymin , ymax) \n",
    "    z = []\n",
    "    x = []\n",
    "    a = []\n",
    "    visited = []\n",
    "    \n",
    "    #get z,x,alpha for all nodes\n",
    "    for node in node_list:\n",
    "        state = node.state\n",
    "        visited.append(node.visited)\n",
    "        z.append(state[0])\n",
    "        x.append(state[2])\n",
    "        a.append(state[4])\n",
    "        \n",
    "    #calculate pos of mas\n",
    "    z_mass_a = z-L*np.cos(a)\n",
    "    x_mass_a = x-L*np.sin(a)\n",
    "    \n",
    "    x_visited = np.array(x)[visited]\n",
    "    z_visited = np.array(z)[visited]\n",
    "    x_mass_visited = np.array(x_mass_a)[visited]\n",
    "    z_mass_visited = np.array(z_mass_a)[visited]\n",
    "    \n",
    "    plt.title(\"Nodes Generated\")\n",
    "    plt.ylabel(\"Z Position\")\n",
    "    plt.xlabel(\"X Position\")\n",
    "    \n",
    "    #plot all nodes\n",
    "    plt.scatter(x,z, c = 'C0', label = 'Nodes Not Visited', marker = '.')\n",
    "\n",
    "    #plot visited nodes\n",
    "    plt.scatter(x_visited,z_visited, c = 'C2', label = 'Nodes Visited', marker = '.')\n",
    "    plt.legend(loc = 'best')"
   ]
  },
  {
   "cell_type": "markdown",
   "metadata": {},
   "source": [
    "### Horizontal Flight with no Obstacle\n",
    "\n",
    "This is a basic test example, with no horizontal or vertical obstacles. The quadrotor flies from an initial position to a goal region, with no obstacles in the way."
   ]
  },
  {
   "cell_type": "code",
   "execution_count": null,
   "metadata": {},
   "outputs": [],
   "source": [
    "#define the boundaries of the environment\n",
    "def bounds(y):\n",
    "    #unpack the state variables\n",
    "    z_quad = y[0,:]\n",
    "    zd_quad = y[1,:]\n",
    "    x_quad = y[2,:]\n",
    "    xd_quad = y[3,:]\n",
    "    a = y[4,:]\n",
    "    ad = y[5,:]\n",
    "    \n",
    "    L = 0.5\n",
    "    \n",
    "    #calculate the position of the mass\n",
    "    z_mass = z_quad-L*np.cos(a)\n",
    "    x_mass = x_quad-L*np.sin(a)\n",
    "    \n",
    "    is_valid = True\n",
    "    \n",
    "    # all values of x_mass, z_mass, alpha, x_quad, z_quad\n",
    "    for x_m, z_m, a_m, x_q, z_q, x_d in zip(x_mass,z_mass,a,x_quad,z_quad,xd_quad):\n",
    "        #limit Alpha\n",
    "        if (np.abs(a_m) > np.pi):\n",
    "            is_valid = False\n",
    "\n",
    "    return is_valid\n",
    "    "
   ]
  },
  {
   "cell_type": "code",
   "execution_count": null,
   "metadata": {},
   "outputs": [],
   "source": [
    "#define the goal objective\n",
    "def goal(x):\n",
    "    z_pos = x[0]\n",
    "    z_dot = x[1]\n",
    "    x_pos = x[2]\n",
    "    x_dot = x[3]\n",
    "    a = x[4]\n",
    "    a_dot = x[5]\n",
    "    goal = True\n",
    "    if (x_pos < 10):\n",
    "        goal = False\n",
    "    if (z_pos > 0.5):\n",
    "        goal = False  \n",
    "    if (z_pos < -0.5):\n",
    "        goal = False         \n",
    "    if (np.abs(x_dot) > 1):\n",
    "        goal = False    \n",
    "    if goal:\n",
    "        print (\"Success\")\n",
    "    return goal"
   ]
  },
  {
   "cell_type": "code",
   "execution_count": null,
   "metadata": {},
   "outputs": [],
   "source": [
    "#get the cost of an specific action\n",
    "def cost_to_come_a(x,u_type,node):\n",
    "    #return a fixed cost except for obstacle avoidance action\n",
    "    cost = 0.1\n",
    "    if u_type ==9:\n",
    "        cost = 5\n",
    "    return cost\n",
    "\n",
    "def cost_to_go_a(x):\n",
    "    x_goal = 10\n",
    "    z_goal = 0\n",
    "    z_quad = x[0]\n",
    "    x_quad = x[2]\n",
    "    return (np.sqrt((x_goal - x_quad)**2 + (z_goal - z_quad)**2))"
   ]
  },
  {
   "cell_type": "code",
   "execution_count": null,
   "metadata": {},
   "outputs": [],
   "source": [
    "#initialise the algorithm\n",
    "#funstion receives:\n",
    "# Initial State\n",
    "# Goal state\n",
    "# Input set\n",
    "# Function stating if input is valid\n",
    "# Cost_to_come function\n",
    "# Estimate cost_to_go function\n",
    "# Boundaries of the environment\n",
    "astar_search = Astar(xi,goal,U,valid_u,f,cost_to_come_a,cost_to_go_a,bounds)\n",
    "#search for the path\n",
    "path_a = astar_search.search_path()\n"
   ]
  },
  {
   "cell_type": "code",
   "execution_count": null,
   "metadata": {},
   "outputs": [],
   "source": [
    "#plot the nodes generated by the search algorithm\n",
    "print (\"Number of nodes: \",len(astar_search.nodes_list))\n",
    "fig = plt.figure(figsize=(3, 3))\n",
    "#plt.ylim(ymax = 5.5, ymin = -1)\n",
    "plot_nodes_astar(astar_search.nodes_list)\n",
    "#overlay_bounds()\n",
    "\n",
    "#plt.savefig('force_based_nodes.pgf')"
   ]
  },
  {
   "cell_type": "code",
   "execution_count": null,
   "metadata": {},
   "outputs": [],
   "source": [
    "#get the input sequence from search algorithm\n",
    "input_seq_a = astar_search.get_input_seq()\n",
    "print (\"The input sequence:\")\n",
    "print (\"  F_z           F_x\")\n",
    "print (input_seq_a)"
   ]
  },
  {
   "cell_type": "code",
   "execution_count": null,
   "metadata": {},
   "outputs": [],
   "source": [
    "#plot the input sequence\n",
    "Tsample = ts\n",
    "k = 0\n",
    "t = []\n",
    "vz = []\n",
    "vx = []\n",
    "for u in input_seq_a:\n",
    "    t.append(k*Tsample)\n",
    "    t.append((k+1)*Tsample)\n",
    "    vz.append(u[0])\n",
    "    vz.append(u[0])\n",
    "    vx.append(u[1])\n",
    "    vx.append(u[1])\n",
    "    k += 1\n",
    "\n",
    "fig = plt.figure(figsize= [5.8, 1.5])\n",
    "ax = fig.add_subplot(111)\n",
    "fig.subplots_adjust(top=0.85)\n",
    "#ax.set_title('Desired Input Sequence')\n",
    "ax.set_title(r'Input Commands')\n",
    "ax.set_xlabel(r'Time $t_{s}$ (s)')\n",
    "ax.set_ylabel('Input')\n",
    "\n",
    "#ax.axis([-0.1, 3.5, -5.9,  5.9])\n",
    "\n",
    "\n",
    "plt.ylim(ymin = -3, ymax =3)\n",
    "t_pos = 0\n",
    "plt.plot([0,0],[-6,6], color = 'grey', ls = ':', lw = 0.5)\n",
    "for n in astar_search.path:\n",
    "    duration = U[n.input_type].shape[0]\n",
    "    plt.plot([t_pos + ts*duration,t_pos + ts*duration],[-6,6], color = 'grey', ls = ':', lw = 0.5)\n",
    "    t_pos += ts*duration\n",
    "\n",
    "plt.plot(t, vz, label = r\"$\\dot{z}_{ref}$\")\n",
    "plt.plot(t, vx, label = r\"$\\dot{x}_{ref}$\")\n",
    "ax.axis(ylim = (-5.9,  5.9))\n",
    "plt.legend(loc = 'upper right')\n",
    "plt.tight_layout()\n",
    "#plt.savefig('complex_pgf/comp_hor_input.pgf')\n"
   ]
  },
  {
   "cell_type": "code",
   "execution_count": null,
   "metadata": {},
   "outputs": [],
   "source": [
    "#plot the states for the input sequence\n",
    "plt.rcParams['figure.figsize'] = 5.8, 3\n",
    "quadrotor = Quadrotor(m=m)\n",
    "result_a,t_a = quadrotor.solve(ts,xi,input_seq_a[:,0], input_seq_a[:,1],input_seq_a[:,2], t_eval = 0.001)\n",
    "quadrotor.plot_states()\n",
    "plt.tight_layout()\n",
    "#plt.savefig('force_plant_states.pgf')"
   ]
  },
  {
   "cell_type": "code",
   "execution_count": null,
   "metadata": {},
   "outputs": [],
   "source": [
    "#Plot the payload swing over time\n",
    "fig = plt.figure(figsize=(5.8, 1.5))\n",
    "plt.title(r\"Payload Swing $(\\alpha)$ over Time\")\n",
    "plt.xlabel(\"Time (s)\")\n",
    "plt.ylabel(\"Angle (Deg)\")\n",
    "plt.plot(t_a,result_a[4,:]*180/np.pi)\n",
    "plt.tight_layout()\n",
    "#plt.savefig('complex_pgf/comp_hor_alpha.pgf')"
   ]
  },
  {
   "cell_type": "code",
   "execution_count": null,
   "metadata": {},
   "outputs": [],
   "source": [
    "#Function for plotting the position of the quadrotor woth suspended payload\n",
    "def plot_position(result_a,t_a,positions):\n",
    "\n",
    " \n",
    "    z_quad_a = result_a[0,:]\n",
    "    x_quad_a = result_a[2,:]\n",
    "    alpha_a = result_a[4,:]\n",
    "    L = 0.5\n",
    "\n",
    "    z_mass_a = z_quad_a-L*np.cos(alpha_a)\n",
    "    x_mass_a = x_quad_a-L*np.sin(alpha_a)                 \n",
    "    plt.title(\"Path Followed by Quadrotor\")\n",
    "    plt.plot(x_mass_a, z_mass_a, label = 'Mass', ls ='--', lw = 0.5)\n",
    "    plt.plot(x_quad_a,z_quad_a, label = 'Quadrotor', ls ='--', color = 'tab:blue', lw = 0.5)           \n",
    "    for p in positions:\n",
    "        link = plt.Line2D((x_quad_a[p], x_mass_a[p]), (z_quad_a[p], z_mass_a[p]), lw=0.5, color = 'k')\n",
    "        plt.gca().add_line(link)\n",
    "        mass = plt.Circle((x_mass_a[p], z_mass_a[p]), 0.07, fc='k')\n",
    "        plt.gca().add_patch(mass)\n",
    "\n",
    "    plt.xlabel('X Position')\n",
    "    plt.ylabel('Y Position')\n",
    "    #plt.legend(loc = 'best')\n",
    "    #plt.show()      "
   ]
  },
  {
   "cell_type": "code",
   "execution_count": null,
   "metadata": {},
   "outputs": [],
   "source": [
    "fig = plt.figure(figsize=(5.8, 1.5))\n",
    "plt.ylim(ymax = .5, ymin = -1)\n",
    "positions = [0, 500, 1000, 2000, 3000,3000, 4000, 5000,5900,6600]\n",
    "plot_position(result_a,t_a,positions )\n",
    "plt.tight_layout()\n",
    "#plt.savefig('complex_pgf/comp_hor_path.pgf')"
   ]
  },
  {
   "cell_type": "code",
   "execution_count": null,
   "metadata": {},
   "outputs": [],
   "source": []
  },
  {
   "cell_type": "markdown",
   "metadata": {},
   "source": [
    "### Tunnel Chimney Tunnel"
   ]
  },
  {
   "cell_type": "code",
   "execution_count": null,
   "metadata": {},
   "outputs": [],
   "source": [
    "#define the boundaries\n",
    "def bounds(y):\n",
    "    #unpack the state variables\n",
    "    z_quad = y[0,:]\n",
    "    zd_quad = y[1,:]\n",
    "    x_quad = y[2,:]\n",
    "    xd_quad = y[3,:]\n",
    "    a = y[4,:]\n",
    "    ad = y[5,:]\n",
    "    \n",
    "    L = 0.5\n",
    "    \n",
    "    #calculate the position of the mass\n",
    "    z_mass = z_quad-L*np.cos(a)\n",
    "    x_mass = x_quad-L*np.sin(a)\n",
    "    \n",
    "    is_valid = True\n",
    "    \n",
    "    # all values of x_mass, z_mass, alpha, x_quad, z_quad\n",
    "    for x_m, z_m, a_m, x_q, z_q, x_d in zip(x_mass,z_mass,a,x_quad,z_quad,xd_quad):\n",
    "        #Section 1\n",
    "        if (x_m < 16):\n",
    "            if (z_m < -0.55):\n",
    "                is_valid = False\n",
    "            if (z_m > 0.05):\n",
    "                is_valid = False\n",
    "        if (x_q < 16):\n",
    "            if (z_q < -0.55):\n",
    "                is_valid = False\n",
    "            if (z_q > 0.05):\n",
    "                is_valid = False\n",
    "        #Section 2\n",
    "        if (x_m > 16) and (x_m < 20):\n",
    "            if (z_m < -0.55) or (z_m > 5):\n",
    "                is_valid = False\n",
    "        if (x_q > 16) and (x_q < 20):\n",
    "            if (z_q < -0.55) or (z_q > 5):\n",
    "                is_valid = False       \n",
    "        #Section 3\n",
    "        if (x_m > 20):\n",
    "            if (z_m < 4) or (z_m > 5):\n",
    "                is_valid = False\n",
    "        if (x_q > 20):\n",
    "            if (z_q < 4) or (z_q > 5):\n",
    "                is_valid = False                       \n",
    "        if (x_q < 0):\n",
    "            is_valid = False           \n",
    "        if (x_q > 30):\n",
    "            is_valid = False                       \n",
    "    #    \n",
    "    #    #wall behind goal\n",
    "    #    if (x_m > 45):\n",
    "    #        is_valid = False\n",
    "    #    \n",
    "        #limit Alpha\n",
    "        if (np.abs(a_m) > np.pi/4):\n",
    "            is_valid = False\n",
    "\n",
    "    return is_valid\n",
    "    \n",
    "    "
   ]
  },
  {
   "cell_type": "code",
   "execution_count": null,
   "metadata": {},
   "outputs": [],
   "source": [
    "#define the goal objective\n",
    "def goal(x):\n",
    "    z_pos = x[0]\n",
    "    z_dot = x[1]\n",
    "    x_pos = x[2]\n",
    "    x_dot = x[3]\n",
    "    a = x[4]\n",
    "    a_dot = x[5]\n",
    "    goal = True\n",
    "    if (x_pos < 25):\n",
    "        goal = False\n",
    "    if (np.abs(x_dot) > 1):\n",
    "        goal = False    \n",
    "    if goal:\n",
    "        print (\"Success\")\n",
    "    return goal"
   ]
  },
  {
   "cell_type": "code",
   "execution_count": null,
   "metadata": {},
   "outputs": [],
   "source": [
    "#function to overlay obstacles\n",
    "def overlay_bounds():\n",
    "    #Add obstacles\n",
    "    points1 = [[-1, 0.05],[16,0.05],[16, 5],[30, 5],[30,4],[20,4],[20,-0.55],[-1,-0.55]]\n",
    "    polygon1 = plt.Polygon(points1, fill=None, edgecolor='tab:brown')\n",
    "    plt.gca().add_patch(polygon1)"
   ]
  },
  {
   "cell_type": "code",
   "execution_count": null,
   "metadata": {},
   "outputs": [],
   "source": [
    "#Define estimate of cost to goal region\n",
    "def cost_to_go_a(x):\n",
    "    x_goal = 25\n",
    "    z_goal = 5\n",
    "    z_quad = x[0]\n",
    "    x_quad = x[2]\n",
    "    return (np.sqrt((x_goal - x_quad)**2 + (z_goal - z_quad)**2))"
   ]
  },
  {
   "cell_type": "code",
   "execution_count": null,
   "metadata": {},
   "outputs": [],
   "source": [
    "#initialise the algorithm\n",
    "astar_search = Astar(xi,goal,U,valid_u,f,cost_to_come_a,cost_to_go_a,bounds)\n",
    "#search for the path\n",
    "path_a = astar_search.search_path()\n"
   ]
  },
  {
   "cell_type": "code",
   "execution_count": null,
   "metadata": {},
   "outputs": [],
   "source": [
    "#plot the nodes generated by the search algorithm\n",
    "print (\"Number of nodes: \",len(astar_search.nodes_list))\n",
    "fig = plt.figure(figsize=(5.8, 3))\n",
    "plt.ylim(ymax = 5.5, ymin = -1)\n",
    "plot_nodes_astar(astar_search.nodes_list)\n",
    "overlay_bounds()\n",
    "\n",
    "#plt.savefig('force_based_nodes.pgf')"
   ]
  },
  {
   "cell_type": "code",
   "execution_count": null,
   "metadata": {},
   "outputs": [],
   "source": [
    "#get the input sequencec for the planned path\n",
    "input_seq_a = astar_search.get_input_seq()\n",
    "print (\"The input sequence:\")\n",
    "print (\"  F_z           F_x\")\n",
    "print (input_seq_a)"
   ]
  },
  {
   "cell_type": "code",
   "execution_count": null,
   "metadata": {},
   "outputs": [],
   "source": [
    "#plot the input sequence nicely\n",
    "Tsample = ts\n",
    "k = 0\n",
    "t = []\n",
    "vz = []\n",
    "vx = []\n",
    "for u in input_seq_a:\n",
    "    t.append(k*Tsample)\n",
    "    t.append((k+1)*Tsample)\n",
    "    vz.append(u[0])\n",
    "    vz.append(u[0])\n",
    "    vx.append(u[1])\n",
    "    vx.append(u[1])\n",
    "    k += 1\n",
    "\n",
    "fig = plt.figure(figsize= [5.8, 1.5])\n",
    "ax = fig.add_subplot(111)\n",
    "fig.subplots_adjust(top=0.85)\n",
    "#ax.set_title('Desired Input Sequence')\n",
    "ax.set_title(r'Input Commands')\n",
    "ax.set_xlabel(r'Time $t_{s}$ (s)')\n",
    "ax.set_ylabel('Input')\n",
    "\n",
    "#ax.axis([-0.1, 3.5, -5.9,  5.9])\n",
    "\n",
    "\n",
    "plt.ylim(ymin = -3, ymax =3)\n",
    "\n",
    "t_pos = 0\n",
    "plt.plot([0,0],[-6,6], color = 'grey', ls = ':', lw = 0.5)\n",
    "for n in astar_search.path:\n",
    "    duration = U[n.input_type].shape[0]\n",
    "    plt.plot([t_pos + ts*duration,t_pos + ts*duration],[-6,6], color = 'grey', ls = ':', lw = 0.5)\n",
    "    t_pos += ts*duration\n",
    "\n",
    "plt.plot(t, vz, label = r\"$\\dot{z}_{ref}$\")\n",
    "plt.plot(t, vx, label = r\"$\\dot{x}_{ref}$\")\n",
    "ax.axis(ylim = (-5.9,  5.9))\n",
    "plt.legend(loc = 'lower right')\n",
    "plt.tight_layout()\n",
    "#plt.savefig('complex_pgf/comp_tct_input.pgf')"
   ]
  },
  {
   "cell_type": "markdown",
   "metadata": {},
   "source": [
    "### Verify the choosen path"
   ]
  },
  {
   "cell_type": "code",
   "execution_count": null,
   "metadata": {},
   "outputs": [],
   "source": [
    "#simulate the planned path\n",
    "quadrotor = Quadrotor(m=m)\n",
    "result_a,t_a = quadrotor.solve(ts,xi,input_seq_a[:,0], input_seq_a[:,1],input_seq_a[:,2], t_eval = 0.001)\n",
    "plt.rcParams['figure.figsize'] = 5.8, 3\n",
    "quadrotor.plot_states()\n",
    "plt.tight_layout()\n",
    "#plt.savefig('force_plant_states.pgf')"
   ]
  },
  {
   "cell_type": "code",
   "execution_count": null,
   "metadata": {},
   "outputs": [],
   "source": [
    "#plot the path followed by the quadrotor\n",
    "fig = plt.figure(figsize=(5.8, 2))\n",
    "plt.ylim(ymax = 5.5, ymin = -1)\n",
    "positions = [0, 1000, 2000,3000,4000, 5000, 6000,7000,8000, 9000, 10000, 11000,12000, 13000, \n",
    "             14000, 15000,16000,17000,18000,19000,20618]\n",
    "plot_position(result_a,t_a,positions )\n",
    "plt.tight_layout()\n",
    "overlay_bounds()\n",
    "#plt.savefig('primitive_tun_chim_tun.pgf')\n",
    "#plt.savefig('prim_pgf/prim_tct_path.pgf')\n",
    "#plt.savefig('complex_pgf/comp_tct_path.pgf')"
   ]
  },
  {
   "cell_type": "code",
   "execution_count": null,
   "metadata": {},
   "outputs": [],
   "source": [
    "#payload swing angle\n",
    "fig = plt.figure(figsize=(5.8, 1.5))\n",
    "plt.title(r\"Payload Swing $(\\alpha)$ over Time\")\n",
    "plt.xlabel(\"Time (s)\")\n",
    "plt.ylabel(\"Angle (Deg)\")\n",
    "plt.plot(t_a,result_a[4,:]*180/np.pi)\n",
    "plt.tight_layout()\n",
    "#plt.savefig('complex_pgf/comp_tct_alpha.pgf')"
   ]
  },
  {
   "cell_type": "code",
   "execution_count": null,
   "metadata": {},
   "outputs": [],
   "source": [
    "result_a.shape"
   ]
  },
  {
   "cell_type": "markdown",
   "metadata": {},
   "source": [
    "### Tunnel Chimney Tunnel with Obstacle"
   ]
  },
  {
   "cell_type": "code",
   "execution_count": null,
   "metadata": {},
   "outputs": [],
   "source": [
    "#define the boundaries of the environment\n",
    "def bounds(y):\n",
    "    #unpack the state variables\n",
    "    z_quad = y[0,:]\n",
    "    zd_quad = y[1,:]\n",
    "    x_quad = y[2,:]\n",
    "    xd_quad = y[3,:]\n",
    "    a = y[4,:]\n",
    "    ad = y[5,:]\n",
    "    \n",
    "    L = 0.5\n",
    "    \n",
    "    #calculate the position of the mass\n",
    "    z_mass = z_quad-L*np.cos(a)\n",
    "    x_mass = x_quad-L*np.sin(a)\n",
    "    \n",
    "    is_valid = True\n",
    "    \n",
    "    # all values of x_mass, z_mass, alpha, x_quad, z_quad\n",
    "    for x_m, z_m, a_m, x_q, z_q, x_d in zip(x_mass,z_mass,a,x_quad,z_quad,xd_quad):\n",
    "        #Section 1\n",
    "        if (x_m < 16):\n",
    "            if (z_m < -0.55):\n",
    "                is_valid = False\n",
    "            if (z_m > 0.05):\n",
    "                is_valid = False\n",
    "        if (x_q < 16):\n",
    "            if (z_q < -0.55):\n",
    "                is_valid = False\n",
    "            if (z_q > 0.05):\n",
    "                is_valid = False\n",
    "        #add the obstacle        \n",
    "        if (x_m > 5) and (x_m < 5.5):\n",
    "            if (z_m < -0.4) or (z_m > 0.1):\n",
    "                is_valid = False\n",
    "        if (x_q > 5) and (x_q < 5.5):\n",
    "            if (z_q < -0.4) or (z_q > 0.1):\n",
    "                is_valid = False                       \n",
    "        #Section 2\n",
    "        if (x_m > 16) and (x_m < 20):\n",
    "            if (z_m < -0.55) or (z_m > 5):\n",
    "                is_valid = False\n",
    "        if (x_q > 16) and (x_q < 20):\n",
    "            if (z_q < -0.55) or (z_q > 5):\n",
    "                is_valid = False       \n",
    "        #Section 3\n",
    "        if (x_m > 20):\n",
    "            if (z_m < 4) or (z_m > 5):\n",
    "                is_valid = False\n",
    "        if (x_q > 20):\n",
    "            if (z_q < 4) or (z_q > 5):\n",
    "                is_valid = False                       \n",
    "        if (x_q < 0):\n",
    "            is_valid = False           \n",
    "        if (x_q > 30):\n",
    "            is_valid = False                       \n",
    "    #    \n",
    "    #    #wall behind goal\n",
    "    #    if (x_m > 45):\n",
    "    #        is_valid = False\n",
    "    #    \n",
    "        #limit Alpha\n",
    "        if (np.abs(a_m) > np.pi):\n",
    "            is_valid = False\n",
    "\n",
    "    return is_valid\n",
    "    "
   ]
  },
  {
   "cell_type": "code",
   "execution_count": null,
   "metadata": {},
   "outputs": [],
   "source": [
    "#initialise the algorithm\n",
    "astar_search = Astar(xi,goal,U,valid_u,f,cost_to_come_a,cost_to_go_a,bounds)\n",
    "#search for the path\n",
    "path_a = astar_search.search_path()\n"
   ]
  },
  {
   "cell_type": "code",
   "execution_count": null,
   "metadata": {},
   "outputs": [],
   "source": [
    "def overlay_bounds():\n",
    "    #Add obstacles\n",
    "    points1 = [[-1, 0.2],[16,0.2],[16, 5],[30, 5],[30,4],[20,4],[20,-0.7],\n",
    "               [5.5,-0.7],[5.5,-0.45],[5,-0.45],[5,-0.7],[-1,-0.7],[-1,-0.7]]\n",
    "    polygon1 = plt.Polygon(points1, fill=None, edgecolor='tab:brown', lw = 1)\n",
    "    plt.gca().add_patch(polygon1)"
   ]
  },
  {
   "cell_type": "code",
   "execution_count": null,
   "metadata": {},
   "outputs": [],
   "source": [
    "#plot the nodes generated by the search algorithm\n",
    "print (\"Number of nodes: \",len(astar_search.nodes_list))\n",
    "fig = plt.figure(figsize=(5.8, 2))\n",
    "plt.ylim(ymax = 5.5, ymin = -1)\n",
    "plot_nodes_astar(astar_search.nodes_list)\n",
    "overlay_bounds()\n",
    "\n",
    "#plt.savefig('force_based_nodes.pgf')"
   ]
  },
  {
   "cell_type": "code",
   "execution_count": null,
   "metadata": {},
   "outputs": [],
   "source": []
  },
  {
   "cell_type": "code",
   "execution_count": null,
   "metadata": {},
   "outputs": [],
   "source": [
    "#get the input sequence for the planned path\n",
    "input_seq_a = astar_search.get_input_seq()\n",
    "print (\"The input sequence:\")\n",
    "print (\"  F_z           F_x\")\n",
    "print (input_seq_a)"
   ]
  },
  {
   "cell_type": "code",
   "execution_count": null,
   "metadata": {},
   "outputs": [],
   "source": [
    "#plot the input sequence\n",
    "Tsample = ts\n",
    "k = 0\n",
    "t = []\n",
    "vz = []\n",
    "vx = []\n",
    "fx = []\n",
    "for u in input_seq_a:\n",
    "    type_in = u[2]\n",
    "    t.append(k*Tsample)\n",
    "    t.append((k+1)*Tsample)\n",
    "    \n",
    "    if type_in == 0:\n",
    "        print (\"n\")\n",
    "        vz.append(0.0)\n",
    "        vz.append(0.0)\n",
    "        vx.append(0.0)\n",
    "        vx.append(0.0)\n",
    "        fx.append(u[1])\n",
    "        fx.append(u[1])\n",
    "    else:\n",
    "        vz.append(u[0])\n",
    "        vz.append(u[0])\n",
    "        vx.append(u[1])\n",
    "        vx.append(u[1])\n",
    "        fx.append(0)\n",
    "        fx.append(0)        \n",
    "    k += 1\n",
    "\n",
    "fig = plt.figure(figsize= [3.3, 2.2])\n",
    "ax = fig.add_subplot(111)\n",
    "fig.subplots_adjust(top=0.85)\n",
    "#ax.set_title('Desired Input Sequence')\n",
    "ax.set_title(r'Generated input commands')\n",
    "ax.set_xlabel(r'Time (s)')\n",
    "ax.set_ylabel('Input reference')\n",
    "\n",
    "#ax.axis([-0.1, 3.5, -5.9,  5.9])\n",
    "\n",
    "\n",
    "#plt.ylim(ymin = -7.5, ymax =7.5)\n",
    "\n",
    "t_pos = 0\n",
    "plt.plot([0,0],[-9,9], color = 'grey', ls = ':', lw = 0.5)\n",
    "for n in astar_search.path:\n",
    "    duration = U[n.input_type].shape[0]\n",
    "    plt.plot([t_pos + ts*duration,t_pos + ts*duration],[-9,9], color = 'grey', ls = ':', lw = 0.5)\n",
    "    t_pos += ts*duration\n",
    "\n",
    "plt.plot(t, vz,lw = 1, label = r\"$\\dot{z}_{\\textrm{ref}}$\")\n",
    "plt.plot(t, vx,lw = 1, label = r\"$\\dot{x}_{\\textrm{ref}}$\")\n",
    "plt.plot(t, fx,lw = 1, label = r\"$F_{x}$\")\n",
    "plt.ylim(ymin = -9, ymax =9)\n",
    "\n",
    "plt.legend(loc = 'lower right')\n",
    "plt.tight_layout()\n"
   ]
  },
  {
   "cell_type": "code",
   "execution_count": null,
   "metadata": {},
   "outputs": [],
   "source": [
    "#plot the states for the simulation\n",
    "quadrotor = Quadrotor(m=m)\n",
    "result_a,t_a = quadrotor.solve(ts,xi,input_seq_a[:,0], input_seq_a[:,1],input_seq_a[:,2], t_eval = 0.001)\n",
    "plt.rcParams['figure.figsize'] = 5.8, 3\n",
    "quadrotor.plot_states()\n",
    "plt.tight_layout()\n",
    "#plt.savefig('force_plant_states.pgf')"
   ]
  },
  {
   "cell_type": "code",
   "execution_count": null,
   "metadata": {},
   "outputs": [],
   "source": [
    "#plot the swing of the payload\n",
    "fig = plt.figure(figsize=(6.2, 1.7))\n",
    "plt.title(r\"Payload Swing $(\\alpha)$ over Time\")\n",
    "plt.xlabel(\"Time (s)\")\n",
    "plt.ylabel(\"Payload Angle\")\n",
    "plt.ylim(ymin = - 70, ymax = 70)\n",
    "plt.plot(t_a,result_a[4,:]*180/np.pi, color = 'tab:orange')\n",
    "plt.tight_layout()\n",
    "#plt.savefig('comp_tct_obs_alpha.pdf')"
   ]
  },
  {
   "cell_type": "code",
   "execution_count": null,
   "metadata": {},
   "outputs": [],
   "source": [
    "#function to plot the position of the quadrotor with suspended payload\n",
    "def plot_position(result_a,t_a,positions):\n",
    "\n",
    " \n",
    "    z_quad_a = result_a[0,:]\n",
    "    x_quad_a = result_a[2,:]\n",
    "    alpha_a = result_a[4,:]\n",
    "    L = 0.5\n",
    "\n",
    "    z_mass_a = z_quad_a-L*np.cos(alpha_a)\n",
    "    x_mass_a = x_quad_a-L*np.sin(alpha_a)                 \n",
    "    plt.title(\"Path Followed by Quadrotor\")\n",
    "    plt.plot(x_mass_a, z_mass_a, label = 'Mass', ls ='--', lw = 1)\n",
    "    plt.plot(x_quad_a,z_quad_a, label = 'Quadrotor', ls ='--', color = 'tab:blue', lw = 1)           \n",
    "    for p in positions:\n",
    "        link = plt.Line2D((x_quad_a[p], x_mass_a[p]), (z_quad_a[p], z_mass_a[p]), lw=0.5, color = 'k')\n",
    "        plt.gca().add_line(link)\n",
    "        mass = plt.Circle((x_mass_a[p], z_mass_a[p]), 0.07, fc='k')\n",
    "        plt.gca().add_patch(mass)\n",
    "\n",
    "    plt.xlabel('X Position')\n",
    "    plt.ylabel('Y Position')\n",
    "    #plt.legend(loc = 'best')\n",
    "    #plt.show()      "
   ]
  },
  {
   "cell_type": "code",
   "execution_count": null,
   "metadata": {},
   "outputs": [],
   "source": [
    "#plot the position of the quadrotor with suspended payload\n",
    "fig = plt.figure(figsize=(5.8, 2))\n",
    "plt.ylim(ymax = 5.5, ymin = -1)\n",
    "positions = [0, 1000, 1500,2200,2700, 3000, 3200,3500,4000, 4200, 4500, 5000,3700, 6000, \n",
    "              7000, 8000,9000,11000,12000,12331, 13500, 14500, 16000, 17000, 18000,18172]\n",
    "plot_position(result_a,t_a,positions )\n",
    "plt.tight_layout()\n",
    "overlay_bounds()\n",
    "#plt.savefig('comp_tct_obs_path.png', dpi = 500)\n"
   ]
  },
  {
   "cell_type": "code",
   "execution_count": null,
   "metadata": {},
   "outputs": [],
   "source": [
    "quadrotor = Quadrotor(m=m)\n",
    "result_a,t_a = quadrotor.solve(ts,xi,input_seq_a[:,0], input_seq_a[:,1],input_seq_a[:,2], t_eval = 0.001)"
   ]
  },
  {
   "cell_type": "code",
   "execution_count": null,
   "metadata": {},
   "outputs": [],
   "source": [
    "fig = plt.figure(figsize=(5.8, 2))\n",
    "#plt.ylim(ymax = 5.5, ymin = -1)\n",
    "positions = [0, 1000, 1500,2200,2700, 3000, 3200,3500,4000, 4200, 4500, 5000,3700, 6000, \n",
    "              7000, 8000,9000,11000,12000,12331, 13500, 14500, 16000, 17000, 18000,18172]\n",
    "plot_position(result_a,t_a,positions )\n",
    "plt.tight_layout()\n",
    "overlay_bounds()\n",
    "#plt.savefig('comp_tct_obs_path.png', dpi = 500)\n"
   ]
  },
  {
   "cell_type": "markdown",
   "metadata": {},
   "source": [
    "# Export action sequence to Matlab Simulation"
   ]
  },
  {
   "cell_type": "code",
   "execution_count": null,
   "metadata": {},
   "outputs": [],
   "source": [
    "#Export the input sequence generated by the path planning algorithm\n",
    "input_seq_a = astar_search.get_input_seq()\n",
    "print (\"The input sequence:\")\n",
    "print (\"  r_z  r_x\")\n",
    "print (input_seq_a)\n",
    "numbers_needed = input_seq_a.shape[0]\n",
    "t = np.linspace(0,numbers_needed*ts,numbers_needed, endpoint = False)\n",
    "rz = input_seq_a[:,0]\n",
    "rx = input_seq_a[:,1]\n",
    "input_type = input_seq_a[:,2]\n",
    "sio.savemat('generated_input_sequences/complex_action_sec.mat', {'t':t.astype(float).T,'rz':rz.astype(float).T,'rx':rx.astype(float).T,'input_type':input_type.astype(float).T})"
   ]
  },
  {
   "cell_type": "code",
   "execution_count": null,
   "metadata": {},
   "outputs": [],
   "source": []
  },
  {
   "cell_type": "markdown",
   "metadata": {},
   "source": [
    "# Import data from matlab simulation"
   ]
  },
  {
   "cell_type": "markdown",
   "metadata": {},
   "source": [
    "### Import the expected trajectory"
   ]
  },
  {
   "cell_type": "code",
   "execution_count": null,
   "metadata": {},
   "outputs": [],
   "source": [
    "f = sio.loadmat('../simulation_complex_action_space/matlab_outputs/expected_trajectory.mat')\n",
    "a_p = f['path_a_dat']\n",
    "x_p = f['path_x_pos_dat']\n",
    "tout_p = f['tout']\n",
    "x_p = f['path_x_pos_dat']\n",
    "x_dot_p = f['path_x_dot_dat']\n",
    "z_p = f['path_z_pos_dat']\n",
    "z_dot_p = f['path_z_dot_dat']\n",
    "fz_p = f['path_fz_dat']\n",
    "fx_p = f['path_fx_dat']"
   ]
  },
  {
   "cell_type": "markdown",
   "metadata": {},
   "source": [
    "### Import the executed path"
   ]
  },
  {
   "cell_type": "code",
   "execution_count": null,
   "metadata": {},
   "outputs": [],
   "source": [
    "g = sio.loadmat('../simulation_complex_action_space/matlab_outputs/no_disturbances.mat')\n",
    "a_a = g['actual_a_dat'][0,:,:].T\n",
    "a_dot_a = g['actual_a_dot_dat']\n",
    "tout_a = g['tout']\n",
    "x_a = g['actual_x_dat'][0,:,:].T\n",
    "x_dot_a = g['actual_x_dot_dat']\n",
    "z_a = g['actual_z_dat'][0,:,:].T\n",
    "z_dot_a = g['actual_z_dot_dat']\n",
    "f1_a = g['actual_f1_dat']\n",
    "f2_a = g['actual_f2_dat']\n",
    "theta_a = g['actual_theta_dat']\n",
    "u1_a = g['actual_u1_dat']"
   ]
  },
  {
   "cell_type": "code",
   "execution_count": null,
   "metadata": {},
   "outputs": [],
   "source": [
    "x_a.shape"
   ]
  },
  {
   "cell_type": "markdown",
   "metadata": {},
   "source": [
    "### Import the executed path with disturbances"
   ]
  },
  {
   "cell_type": "code",
   "execution_count": null,
   "metadata": {},
   "outputs": [],
   "source": [
    "h = sio.loadmat('../simulation_complex_action_space/matlab_outputs/with_disturbances.mat')\n",
    "a_d = h['actual_a_dat'][0,:,:].T\n",
    "a_dot_d = h['actual_a_dot_dat']\n",
    "tout_d = h['tout']\n",
    "x_d = h['actual_x_dat'][0,:,:].T\n",
    "x_dot_d = h['actual_x_dot_dat']\n",
    "z_d = h['actual_z_dat'][0,:,:].T\n",
    "z_dot_d = h['actual_z_dot_dat']\n",
    "f1_d = h['actual_f1_dat']\n",
    "f2_d = h['actual_f2_dat']\n",
    "theta_d = h['actual_theta_dat']\n",
    "u1_d = h['actual_u1_dat']"
   ]
  },
  {
   "cell_type": "code",
   "execution_count": null,
   "metadata": {},
   "outputs": [],
   "source": []
  },
  {
   "cell_type": "markdown",
   "metadata": {},
   "source": [
    "# Plot graphs for report"
   ]
  },
  {
   "cell_type": "code",
   "execution_count": null,
   "metadata": {},
   "outputs": [],
   "source": [
    "#function for p\n",
    "def plot_position(z, x , a, t_a, positions = [], color = 'tab:blue', label = \"\"):\n",
    " \n",
    "    z_quad_a = z\n",
    "    x_quad_a = x\n",
    "    alpha_a = a\n",
    "    L = 0.5\n",
    "\n",
    "    z_mass_a = z_quad_a-L*np.cos(alpha_a)\n",
    "    x_mass_a = x_quad_a-L*np.sin(alpha_a)                 \n",
    "    \n",
    "    plt.plot(x_mass_a, z_mass_a, ls ='--', color = color, lw = 0.5)\n",
    "    plt.plot(x_quad_a,z_quad_a,ls ='--', color = color, lw = 0.5, label = label)           \n",
    "    for p in positions:\n",
    "        link = plt.Line2D((x_quad_a[p], x_mass_a[p]), (z_quad_a[p], z_mass_a[p]), lw=0.5, color = 'k')\n",
    "        plt.gca().add_line(link)\n",
    "        mass = plt.Circle((x_mass_a[p], z_mass_a[p]), 0.07, fc='k')\n",
    "        plt.gca().add_patch(mass)\n",
    "    #plt.legend(loc = 'best')\n",
    "    #plt.show()      "
   ]
  },
  {
   "cell_type": "code",
   "execution_count": null,
   "metadata": {},
   "outputs": [],
   "source": [
    "def overlay_bounds():\n",
    "    #Add obstacles\n",
    "    points1 = [[-1, 0.2],[16,0.2],[16, 5],[30, 5],[30,4],[20,4],[20,-0.78],\n",
    "               [5.5,-0.78],[5.5,-0.5],[5,-0.5],[5,-0.78],[-1,-0.78],[-1,-0.78]]\n",
    "    polygon1 = plt.Polygon(points1, fill=None, edgecolor='tab:brown', lw = 1)\n",
    "    plt.gca().add_patch(polygon1)"
   ]
  },
  {
   "cell_type": "markdown",
   "metadata": {},
   "source": [
    "## Planned Path"
   ]
  },
  {
   "cell_type": "code",
   "execution_count": null,
   "metadata": {},
   "outputs": [],
   "source": [
    "#plot the swing of the payload\n",
    "fig = plt.figure(figsize= [4.6, 1.67])\n",
    "plt.title(r\"Planned Payload Swing $(\\alpha)$ over Time\")\n",
    "plt.xlabel(\"Time (s)\")\n",
    "plt.ylabel(\"Payload Angle\")\n",
    "plt.ylim(bottom = - 70, top = 70)\n",
    "plt.plot(tout_p,a_p*180/np.pi, lw = 1)\n",
    "plt.tight_layout()\n",
    "plt.savefig('report_images/complex_alpha.pgf')\n",
    "#plt.savefig('out.pdf')\n"
   ]
  },
  {
   "cell_type": "code",
   "execution_count": null,
   "metadata": {},
   "outputs": [],
   "source": [
    "fig = plt.figure(figsize= [4.6, 1.67])\n",
    "plt.xlim(left = -1, right = 27)\n",
    "plt.ylim(bottom = -1, top = 5.2)\n",
    "overlay_bounds()\n",
    "positions = [0, 300, 450, 550, 600, 670, 730, 800, 1000, 1200, 1400, 1570, 2000, 2400, 2800, 3000, 3200, 3400, 3700]\n",
    "plt.title(\"Planned Path for Quadrotor and Payload\")\n",
    "\n",
    "plot_position(z_p,x_p,a_p, tout_p,positions )\n",
    "plt.xlabel('X Position')\n",
    "plt.ylabel('Y Position')\n",
    "plt.tight_layout()\n",
    "#plt.savefig('report_images/complex_path.pgf')\n",
    "plt.savefig('out.pdf')"
   ]
  },
  {
   "cell_type": "code",
   "execution_count": null,
   "metadata": {},
   "outputs": [],
   "source": []
  },
  {
   "cell_type": "code",
   "execution_count": null,
   "metadata": {},
   "outputs": [],
   "source": [
    "fig = plt.figure(figsize= [3.3, 2.2])\n",
    "plt.title(r'Open-loop force sequence')\n",
    "plt.xlabel(r'Time (s)')\n",
    "plt.ylabel('Force (N)')\n",
    "plt.tight_layout()\n",
    "plt.plot(tout_p, fz_p, lw = 1, label = r\"$F_{z}$\")\n",
    "plt.plot(tout_p, fx_p, lw = 1, label = r\"$F_{x}$\")\n",
    "plt.legend(loc = 'upper right')\n",
    "plt.savefig('report_images/complex_input.pgf')\n",
    "#plt.savefig('out.pdf')"
   ]
  },
  {
   "cell_type": "markdown",
   "metadata": {},
   "source": [
    "## Executed Path"
   ]
  },
  {
   "cell_type": "code",
   "execution_count": null,
   "metadata": {},
   "outputs": [],
   "source": [
    "#plot the swing of the payload\n",
    "fig = plt.figure(figsize= [3.3, 2.5])\n",
    "plt.title(r\"Payload swing over time\")\n",
    "plt.xlabel(\"Time (s)\")\n",
    "plt.ylabel(\"Payload angle\")\n",
    "#plt.ylim(bottom = - 70, top = 70)\n",
    "plt.plot(tout_p,a_p*180/np.pi, lw = 1, label = 'Planned angke')\n",
    "plt.plot(tout_a,a_a*180/np.pi, lw = 1, label = 'Actual')\n",
    "plt.legend(loc = 'upper right')\n",
    "#plt.axis(\"equal\")\n",
    "plt.tight_layout()\n",
    "\n",
    "#plt.savefig('out.pdf')"
   ]
  },
  {
   "cell_type": "code",
   "execution_count": null,
   "metadata": {},
   "outputs": [],
   "source": [
    "fig = plt.figure(figsize= [5.8, 1.8])\n",
    "plt.xlim(left = -1, right = 27)\n",
    "plt.ylim(bottom = -1, top = 5.2)\n",
    "overlay_bounds()\n",
    "positions = [0, 1000, 2000, 2600, 3000, 3400, 3700, 4500, 5500, 6000, 6700, 7300, 8000, 10000, 12000, 14000, 15700, 16600, 17500, 18300]\n",
    "plt.title(\"Path followed by Quadrotor and Payload\")\n",
    "\n",
    "plot_position(z_p,x_p,a_p, tout_p,[], label = 'Planned')\n",
    "\n",
    "plot_position(z_a,x_a,a_a, tout_a,positions,'tab:orange' , label = 'Actual')\n",
    "plt.legend(loc = 'upper left')\n",
    "plt.xlabel('X Position')\n",
    "plt.ylabel('Y Position')\n",
    "#plt.axis(\"equal\")\n",
    "plt.tight_layout()\n",
    "plt.savefig('out.pdf')"
   ]
  },
  {
   "cell_type": "code",
   "execution_count": null,
   "metadata": {},
   "outputs": [],
   "source": [
    "#plot the swing of the payload\n",
    "fig = plt.figure(figsize= [4.5, 1.8])\n",
    "plt.title(r\"Tilt Angle of Quadrotor Following Trajectory\")\n",
    "plt.xlabel(\"Time (s)\")\n",
    "plt.ylabel(\"Theta (deg)\")\n",
    "plt.ylim(bottom = - 60, top = 60)\n",
    "plt.plot(tout_a,theta_a*180/np.pi, lw =1 )\n",
    "plt.tight_layout()\n",
    "plt.savefig('out.pdf')"
   ]
  },
  {
   "cell_type": "code",
   "execution_count": null,
   "metadata": {},
   "outputs": [],
   "source": [
    "#plot the swing of the payload\n",
    "fig = plt.figure(figsize= [4.5, 1.8])\n",
    "plt.title(r\"Motor Thrusts of Quadrotor Following Trajectory\")\n",
    "plt.xlabel(\"Time (s)\")\n",
    "plt.ylabel(\"Force (N)\")\n",
    "plt.plot(tout_a[30:],f1_a[30:], lw =1 , label = r\"$f_{1}$\")\n",
    "plt.plot(tout_a[30:],f2_a[30:], lw =1 ,label = r\"$f_{2}$\")\n",
    "plt.legend(loc = 'best')\n",
    "plt.tight_layout()\n",
    "plt.savefig('out.pdf')\n"
   ]
  },
  {
   "cell_type": "code",
   "execution_count": null,
   "metadata": {},
   "outputs": [],
   "source": [
    "#plot the swing of the payload\n",
    "fig = plt.figure(figsize= [4.5, 1.8])\n",
    "plt.title(r\"Motor Thrusts of Quadrotor Following Trajectory\")\n",
    "plt.xlabel(\"Time (s)\")\n",
    "plt.ylabel(\"Force (N)\")\n",
    "plt.plot(tout_a[7000:15000],f1_a[7000:15000], lw = 1, label = r\"$f_{1}$\")\n",
    "plt.plot(tout_a[7000:15000],f2_a[7000:15000], lw = 1, label = r\"$f_{2}$\")\n",
    "plt.legend(loc = 'upper center')\n",
    "plt.tight_layout()\n",
    "plt.savefig('out.pdf')\n"
   ]
  },
  {
   "cell_type": "code",
   "execution_count": null,
   "metadata": {},
   "outputs": [],
   "source": [
    "#plot the swing of the payload\n",
    "fig = plt.figure(figsize= [4.5, 1.8])\n",
    "plt.title(r\"Total Upwards Thrust of Quadrotor Following Trajectory\")\n",
    "plt.xlabel(\"Time (s)\")\n",
    "plt.ylabel(\"$u_1$ (N)\")\n",
    "plt.plot(tout_a[40:],u1_a[40:], lw =1 )\n",
    "plt.tight_layout()\n",
    "plt.savefig('out.pdf')"
   ]
  },
  {
   "cell_type": "markdown",
   "metadata": {},
   "source": [
    "## Executed Path with Disturbances"
   ]
  },
  {
   "cell_type": "code",
   "execution_count": null,
   "metadata": {},
   "outputs": [],
   "source": [
    "#plot the swing of the payload\n",
    "fig = plt.figure(figsize= [3.3, 2.2])\n",
    "plt.title(r\"Payload swing when executing path\")\n",
    "plt.xlabel(\"Time (s)\")\n",
    "plt.ylabel(\"Payload Angle ($^{\\circ}$)\")\n",
    "plt.ylim(bottom = - 75, top = 75)\n",
    "plt.plot(tout_p,a_p*180/np.pi, lw = 1, label = 'Planned angle')\n",
    "plt.plot(tout_d,a_d*180/np.pi, lw = 1, label = 'Executed angle')\n",
    "plt.legend(loc = 'upper right')\n",
    "plt.tight_layout()\n",
    "plt.savefig('report_images/sim_alpha.pgf')\n",
    "#plt.savefig('out.pdf')"
   ]
  },
  {
   "cell_type": "code",
   "execution_count": null,
   "metadata": {},
   "outputs": [],
   "source": [
    "#function for p\n",
    "\n",
    "#modify the function to receive angles and draw them \n",
    "\n",
    "def plot_position(z, x , a, t_a, theta_d, positions = [], color = 'tab:blue', label = \"\"):\n",
    " \n",
    "    z_quad_a = z\n",
    "    x_quad_a = x\n",
    "    alpha_a = a\n",
    "    L = 0.5\n",
    "\n",
    "    z_mass_a = z_quad_a-L*np.cos(alpha_a)\n",
    "    x_mass_a = x_quad_a-L*np.sin(alpha_a)                 \n",
    "    \n",
    "    plt.plot(x_mass_a, z_mass_a, ls ='--', color = color, lw = 0.5)\n",
    "    plt.plot(x_quad_a,z_quad_a,ls ='--', color = color, lw = 0.5, label = label)   \n",
    "    \n",
    "    body_length = 0.3\n",
    "    \n",
    "    hor_displace = np.cos(theta_d)*body_length/2\n",
    "    vert_displace = np.sin(theta_d)*body_length/2\n",
    "    for p in positions:\n",
    "        #create a line for the body of the quadcopter\n",
    "        x_corner = (x_quad_a[p]+hor_displace[p], x_quad_a[p]-hor_displace[p])\n",
    "    \n",
    "        \n",
    "        z_corner = (z_quad_a[p]-vert_displace[p],z_quad_a[p]+vert_displace[p])\n",
    "        \n",
    "        body = plt.Line2D(x_corner, z_corner, lw=0.5, color = 'k')\n",
    "        plt.gca().add_line(body)\n",
    "        link = plt.Line2D((x_quad_a[p], x_mass_a[p]), (z_quad_a[p], z_mass_a[p]), lw=0.5, color = 'k')\n",
    "        plt.gca().add_line(link)\n",
    "        mass = plt.Circle((x_mass_a[p], z_mass_a[p]), 0.07, fc='k')\n",
    "        plt.gca().add_patch(mass)\n",
    "    #plt.legend(loc = 'best')\n",
    "    #plt.show()      "
   ]
  },
  {
   "cell_type": "code",
   "execution_count": null,
   "metadata": {},
   "outputs": [],
   "source": [
    "fig = plt.figure(figsize= [5.8, 1.8])\n",
    "plt.xlim(left = -1, right = 27)\n",
    "#plt.ylim(bottom = -1, top = 5.2)\n",
    "overlay_bounds()\n",
    "positions = np.linspace(0,len(tout_d)-1,25, dtype=int)\n",
    "plt.title(\"Path followed by Quadrotor and Payload\")\n",
    "\n",
    "plot_position(z_p,x_p,a_p, tout_p,[], label = 'Planned path')\n",
    "\n",
    "plot_position(z_d,x_d,a_d, tout_d,theta_d,positions,'tab:orange' , label = 'Executed path')\n",
    "plt.legend(loc = 'upper left')\n",
    "plt.xlabel('Horizontal position (m)')\n",
    "plt.ylabel('Vertical position (m)')\n",
    "plt.axis(\"equal\")\n",
    "plt.tight_layout()\n",
    "#plt.savefig('report_images/sim_path.pgf')\n",
    "plt.savefig('out.pdf')\n"
   ]
  },
  {
   "cell_type": "code",
   "execution_count": null,
   "metadata": {},
   "outputs": [],
   "source": [
    "np.linspace(0,len(tout_d),10, dtype=int)"
   ]
  },
  {
   "cell_type": "code",
   "execution_count": null,
   "metadata": {},
   "outputs": [],
   "source": [
    "#plot the swing of the payload\n",
    "fig = plt.figure(figsize= [4.6, 1.67])\n",
    "plt.title(r\"Tilt Angle of Quadrotor Following Trajectory\")\n",
    "plt.xlabel(\"Time (s)\")\n",
    "plt.ylabel(\"Theta (deg)\")\n",
    "plt.ylim(bottom = - 60, top = 60)\n",
    "plt.plot(tout_d,theta_d*180/np.pi, lw =1 )\n",
    "\n",
    "plt.tight_layout()\n",
    "plt.savefig('report_images/sim_theta.pgf')\n",
    "#plt.savefig('out.pdf')"
   ]
  },
  {
   "cell_type": "code",
   "execution_count": null,
   "metadata": {},
   "outputs": [],
   "source": [
    "np.cos(theta_d)"
   ]
  },
  {
   "cell_type": "code",
   "execution_count": null,
   "metadata": {},
   "outputs": [],
   "source": [
    "np.sin(theta_d)"
   ]
  },
  {
   "cell_type": "code",
   "execution_count": null,
   "metadata": {},
   "outputs": [],
   "source": [
    "hor_displace = np.cos(theta_d)*0.3/2"
   ]
  },
  {
   "cell_type": "code",
   "execution_count": null,
   "metadata": {},
   "outputs": [],
   "source": [
    "plt.plot(tout_d,hor_displace)"
   ]
  },
  {
   "cell_type": "code",
   "execution_count": null,
   "metadata": {},
   "outputs": [],
   "source": [
    "#plot the swing of the payload\n",
    "fig = plt.figure(figsize= [4.6, 1.67])\n",
    "plt.title(r\"Motor Thrusts of Quadrotor Following Trajectory\")\n",
    "plt.xlabel(\"Time (s)\")\n",
    "plt.ylabel(\"Force (N)\")\n",
    "plt.ylim(bottom = - 3, top = 17)\n",
    "plt.plot(tout_d[60:],f1_d[60:], lw =1 , label = r\"$f_{1}$\")\n",
    "plt.plot(tout_d[60:],f2_d[60:], lw =1 ,label = r\"$f_{2}$\")\n",
    "plt.legend(loc = 'upper right')\n",
    "plt.tight_layout()\n",
    "plt.savefig('report_images/sim_motor_thrust.pgf')\n",
    "#plt.savefig('out.pdf')\n"
   ]
  },
  {
   "cell_type": "code",
   "execution_count": null,
   "metadata": {},
   "outputs": [],
   "source": [
    "#plot the swing of the payload\n",
    "fig = plt.figure(figsize= [4.6, 1.67])\n",
    "plt.title(r\"Motor Thrusts of Quadrotor Following Trajectory\")\n",
    "plt.xlabel(\"Time (s)\")\n",
    "plt.ylabel(\"Force (N)\")\n",
    "plt.ylim(bottom = - 3, top = 17)\n",
    "plt.plot(tout_d[7500:8000],f1_d[7500:8000], lw = 1, label = r\"$f_{1}$\")\n",
    "plt.plot(tout_d[7500:8000],f2_d[7500:8000], lw = 1, label = r\"$f_{2}$\")\n",
    "plt.legend(loc = 'upper right')\n",
    "plt.tight_layout()\n",
    "plt.savefig('out.pdf')\n"
   ]
  },
  {
   "cell_type": "code",
   "execution_count": null,
   "metadata": {},
   "outputs": [],
   "source": [
    "#plot the swing of the payload\n",
    "fig = plt.figure(figsize= [4.6, 1.67])\n",
    "plt.title(r\"Total Upwards Thrust of Quadrotor Following Trajectory\")\n",
    "plt.xlabel(\"Time (s)\")\n",
    "plt.ylabel(\"$u_1$ (N)\")\n",
    "plt.plot(tout_d[40:],u1_d[40:], lw =1 )\n",
    "plt.tight_layout()\n",
    "plt.savefig('out.pdf')"
   ]
  },
  {
   "cell_type": "code",
   "execution_count": null,
   "metadata": {},
   "outputs": [],
   "source": []
  },
  {
   "cell_type": "markdown",
   "metadata": {},
   "source": [
    "# Obstacle avoidance seq"
   ]
  },
  {
   "cell_type": "code",
   "execution_count": null,
   "metadata": {},
   "outputs": [],
   "source": [
    "result_o,t_o = quadrotor.solve(ts, xi, U[9][:,0], U[9][:,1], U[9][:,2], t_eval = 0.001)"
   ]
  },
  {
   "cell_type": "code",
   "execution_count": null,
   "metadata": {},
   "outputs": [],
   "source": [
    "fig = plt.figure(figsize= [4.6, 1.45])\n",
    "z_quad_a = result_o[0,:]\n",
    "x_quad_a = result_o[2,:]\n",
    "alpha_a = result_o[4,:]\n",
    "positions = [0, 500, 700, 1000, 1300, 1500, 2000]\n",
    "plt.ylim(bottom = -0.8, top = 0.3)\n",
    "plot_position(z_quad_a,x_quad_a,alpha_a, t_o,positions)\n",
    "plt.xlabel('X Position')\n",
    "plt.title('Obstacle Avoidance Path')\n",
    "plt.ylabel('Y Position')\n",
    "plt.tight_layout()\n",
    "#plt.savefig('out.pdf')\n",
    "plt.savefig('report_images/obstacle_sec.pgf')"
   ]
  },
  {
   "cell_type": "code",
   "execution_count": null,
   "metadata": {},
   "outputs": [],
   "source": []
  }
 ],
 "metadata": {
  "kernelspec": {
   "display_name": "Python 3",
   "language": "python",
   "name": "python3"
  },
  "language_info": {
   "codemirror_mode": {
    "name": "ipython",
    "version": 3
   },
   "file_extension": ".py",
   "mimetype": "text/x-python",
   "name": "python",
   "nbconvert_exporter": "python",
   "pygments_lexer": "ipython3",
   "version": "3.7.4"
  }
 },
 "nbformat": 4,
 "nbformat_minor": 2
}
