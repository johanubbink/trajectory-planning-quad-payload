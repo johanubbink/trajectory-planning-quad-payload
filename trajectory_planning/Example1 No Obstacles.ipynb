{
 "cells": [
  {
   "cell_type": "markdown",
   "metadata": {},
   "source": [
    "# Example 1: No Obstacles"
   ]
  },
  {
   "cell_type": "markdown",
   "metadata": {},
   "source": [
    "This is the first example of the Astar planner to plan trajectories for a Quadrotor UAV with suspended payload. The scenario is a basic one, starting and stopping a bit further. There are no obstacles"
   ]
  },
  {
   "cell_type": "code",
   "execution_count": null,
   "metadata": {},
   "outputs": [],
   "source": [
    "%load_ext autoreload\n",
    "%autoreload 2\n",
    "%matplotlib inline\n",
    "\n",
    "#import the needed libraries\n",
    "import sys\n",
    "sys.path.append('src/')\n",
    "\n",
    "import numpy as np\n",
    "from Path_Search import *\n",
    "from Quadrotor_Load import *\n",
    "import matplotlib.pylab as plt\n",
    "import Node\n",
    "import scipy.io as sio\n",
    "import PlotPlanning\n"
   ]
  },
  {
   "cell_type": "markdown",
   "metadata": {},
   "source": [
    "## Define the model properties"
   ]
  },
  {
   "cell_type": "code",
   "execution_count": null,
   "metadata": {},
   "outputs": [],
   "source": [
    "#define constants for the model\n",
    "m = 0.5 #payload mass\n",
    "L = 0.5 # length of cable\n",
    "M = 1 #Quadrotor mass\n",
    "g = 9.81 #Gravitational constant\n",
    "\n",
    "#calculate the natural frequencies for input shaping\n",
    "Td = 1.35\n",
    "ts = Td/4\n",
    "A1 = 0.5783*2 #the magnitude of the input shaping steps\n",
    "A2 = 0.4217*2 + 0.5783*2 #the magnitude of the input shaping steps"
   ]
  },
  {
   "cell_type": "markdown",
   "metadata": {},
   "source": [
    "## Define the action space of the planner\n",
    "\n",
    "define the input space in the format ([z0, x0 , i0], [z1, x1, i1], [z2, x2, i3]...)\n",
    "\n",
    "z0 is the vertical reference\n",
    "\n",
    "x0 is the horizontal reference\n",
    "\n",
    "i0 corresponds to the input type:\n",
    "- 0 : Velocity command\n",
    "- 1 : Force Command"
   ]
  },
  {
   "cell_type": "code",
   "execution_count": null,
   "metadata": {},
   "outputs": [],
   "source": [
    "#define the input space\n",
    "#Input Space 2\n",
    "#define the input space in the format ([y0, x0 , i0], [y1, x1, i1], [y2, x2, i3]...)\n",
    "\n",
    "U = [np.array([[0, 0,1]]),\n",
    "     np.array([[0, A1,1],[0, A1,1],[0, A2,1],[0, A2,1]]),\n",
    "     np.array([[0, A2,1],[0, A2,1],[0, A2,1]]),\n",
    "     np.array([[0, 2-A1,1],[0, 2-A1,1],[0, 0,1],[0, 0,1]]),\n",
    "     np.array([[0, -A1,1],[0, -A1,1],[0, -A2,1],[0, -A2,1]]),\n",
    "     np.array([[0, -A2,1],[0, -A2,1],[0, -A2,1]]),\n",
    "     np.array([[0, -2+A1,1],[0, -2+A1,1],[0, 0,1],[0, 0,1]]),     \n",
    "     np.array([[1, 0,2]]),\n",
    "     np.array([[-1, 0,2]]),\n",
    "     np.array([[0, 7,0],[0, 7,0],[0, 7,0],[0,-7,0],[0, -7,0],[0, -7,0]])]     \n"
   ]
  },
  {
   "cell_type": "markdown",
   "metadata": {},
   "source": [
    "## Define the state transition function of the quadrotor-payload"
   ]
  },
  {
   "cell_type": "code",
   "execution_count": null,
   "metadata": {},
   "outputs": [],
   "source": [
    "#Uses a mathematical model of the quadrotor-payload to plan trajectories\n",
    "def f(x,u):\n",
    "    #initialize a Quadcopter\n",
    "    quadrotor = Quadrotor(m=m)\n",
    "    #get result for given input and state\n",
    "    result,t = quadrotor.solve(ts, x, u[:,0], u[:,1], u[:,2], t_eval = 0.01)\n",
    "    return result"
   ]
  },
  {
   "cell_type": "markdown",
   "metadata": {},
   "source": [
    "### Define the sequence constrained input\n",
    "\n",
    "This matrix defines an array to which action is allowed based on the parent input"
   ]
  },
  {
   "cell_type": "code",
   "execution_count": null,
   "metadata": {},
   "outputs": [],
   "source": [
    "#defines if it is a valid input\n",
    "#receives the current state, input type, as well as parent input\n",
    "def valid_u(x,u_type,parent_u_type):\n",
    "    valid_in= np.array([ [False,False,False,True ,False,False,False,True ,True ,False],\n",
    "                         [True ,False,False,False,False,False,True ,False,False,False],\n",
    "                         [False,True ,True ,False,False,False,False,False,False,True ],\n",
    "                         [False,True ,True ,False,False,False,False,False,False,False],\n",
    "                         [True ,False,False,True ,False,False,True ,False,False,False],\n",
    "                         [False,False,False,False,True ,True ,False,False,False,False],\n",
    "                         [False,False,False,False,True ,True ,False,False,False,False],\n",
    "                         [True ,False,False,True ,False,False,True ,True ,False,False],\n",
    "                         [True ,False,False,True ,False,False,True ,False,True ,False],\n",
    "                         [False,True ,True ,False,False,False,False,False,False,False]])\n",
    "    return valid_in[u_type,parent_u_type]"
   ]
  },
  {
   "cell_type": "code",
   "execution_count": null,
   "metadata": {},
   "outputs": [],
   "source": [
    "#get the cost of an specific action\n",
    "def cost_to_come_a(x,u_type,node):\n",
    "    '''\n",
    "    Cumalatively calculate the cost up to that specific point\n",
    "    '''\n",
    "    #return a fixed cost except for obstacle avoidance action\n",
    "    cost = 0.1\n",
    "    if u_type ==9:\n",
    "        cost = 5\n",
    "    return cost\n",
    "\n",
    "def cost_to_go_a(x):\n",
    "    '''\n",
    "    Returns an estimate of the cost to reach the goal state\n",
    "    '''\n",
    "    x_goal = 10\n",
    "    z_goal = 0\n",
    "    z_quad = x[0]\n",
    "    x_quad = x[2]\n",
    "    return (np.sqrt((x_goal - x_quad)**2 + (z_goal - z_quad)**2))"
   ]
  },
  {
   "cell_type": "markdown",
   "metadata": {},
   "source": [
    "## Define the flight environment\n",
    "\n",
    "This is a basic test example, with no horizontal or vertical obstacles. The quadrotor flies from an initial position to a goal region, with no obstacles in the way."
   ]
  },
  {
   "cell_type": "code",
   "execution_count": null,
   "metadata": {},
   "outputs": [],
   "source": [
    "#define initial state\n",
    "xi = [0,0,0,0,0,0]"
   ]
  },
  {
   "cell_type": "code",
   "execution_count": null,
   "metadata": {},
   "outputs": [],
   "source": [
    "#define the boundaries of the environment\n",
    "def bounds(y):\n",
    "    '''\n",
    "    This method return true if y is within the allowed bounds\n",
    "    Returns false if y is not within the bounds\n",
    "    '''\n",
    "    #unpack the state variables\n",
    "    z_quad = y[0,:]\n",
    "    zd_quad = y[1,:]\n",
    "    x_quad = y[2,:]\n",
    "    xd_quad = y[3,:]\n",
    "    a = y[4,:]\n",
    "    ad = y[5,:]\n",
    "    \n",
    "    L = 0.5\n",
    "    \n",
    "    #calculate the position of the mass\n",
    "    z_mass = z_quad-L*np.cos(a)\n",
    "    x_mass = x_quad-L*np.sin(a)\n",
    "    \n",
    "    is_valid = True\n",
    "    \n",
    "    # all values of x_mass, z_mass, alpha, x_quad, z_quad\n",
    "    for x_m, z_m, a_m, x_q, z_q, x_d in zip(x_mass,z_mass,a,x_quad,z_quad,xd_quad):\n",
    "        #limit Alpha\n",
    "        if (np.abs(a_m) > np.pi):\n",
    "            is_valid = False\n",
    "\n",
    "    \n",
    "    return is_valid\n",
    "    "
   ]
  },
  {
   "cell_type": "code",
   "execution_count": null,
   "metadata": {},
   "outputs": [],
   "source": [
    "#define the goal objective\n",
    "def goal(x):\n",
    "    '''\n",
    "    This method defines the goal position\n",
    "    Returns true if the goal state has been reached\n",
    "    '''\n",
    "    z_pos = x[0]\n",
    "    z_dot = x[1]\n",
    "    x_pos = x[2]\n",
    "    x_dot = x[3]\n",
    "    a = x[4]\n",
    "    a_dot = x[5]\n",
    "    goal = True\n",
    "    if (x_pos < 10): #limit the \n",
    "        goal = False\n",
    "    if (z_pos > 0.5):\n",
    "        goal = False  \n",
    "    if (z_pos < -0.5):\n",
    "        goal = False         \n",
    "    if (np.abs(x_dot) > 1): #limit the velocity\n",
    "        goal = False    \n",
    "    if goal:\n",
    "        print (\"Success\")\n",
    "    return goal"
   ]
  },
  {
   "cell_type": "markdown",
   "metadata": {},
   "source": [
    "## Run the trajectory planning algorithm\n"
   ]
  },
  {
   "cell_type": "code",
   "execution_count": null,
   "metadata": {},
   "outputs": [],
   "source": [
    "#define the problem\n",
    "astar_search = Astar(xi,goal,U,valid_u,f,cost_to_come_a,cost_to_go_a,bounds)\n",
    "#search for the path\n",
    "path_a = astar_search.search_path()\n",
    "\n",
    "#get the planned input sequence\n",
    "input_seq_a = astar_search.get_input_seq()"
   ]
  },
  {
   "cell_type": "markdown",
   "metadata": {},
   "source": [
    "### Plot the input sequence"
   ]
  },
  {
   "cell_type": "code",
   "execution_count": null,
   "metadata": {},
   "outputs": [],
   "source": [
    "#plot the input sequence\n",
    "Tsample = ts\n",
    "k = 0\n",
    "t = []\n",
    "vz = []\n",
    "vx = []\n",
    "for u in input_seq_a:\n",
    "    t.append(k*Tsample)\n",
    "    t.append((k+1)*Tsample)\n",
    "    vz.append(u[0])\n",
    "    vz.append(u[0])\n",
    "    vx.append(u[1])\n",
    "    vx.append(u[1])\n",
    "    k += 1\n",
    "\n",
    "fig = plt.figure(figsize= [6, 3])\n",
    "ax = fig.add_subplot(111)\n",
    "fig.subplots_adjust(top=0.85)\n",
    "#ax.set_title('Desired Input Sequence')\n",
    "ax.set_title(r'Input Commands')\n",
    "ax.set_xlabel(r'Time $t_{s}$ (s)')\n",
    "ax.set_ylabel('Input')\n",
    "\n",
    "#ax.axis([-0.1, 3.5, -5.9,  5.9])\n",
    "\n",
    "\n",
    "t_pos = 0\n",
    "plt.plot([0,0],[-6,6], color = 'grey', ls = ':', lw = 0.5)\n",
    "for n in astar_search.path:\n",
    "    duration = U[n.input_type].shape[0]\n",
    "    plt.plot([t_pos + ts*duration,t_pos + ts*duration],[-6,6], color = 'grey', ls = ':', lw = 0.5)\n",
    "    t_pos += ts*duration\n",
    "\n",
    "plt.plot(t, vz, label = r\"$\\dot{z}_{ref}$\")\n",
    "plt.plot(t, vx, label = r\"$\\dot{x}_{ref}$\")\n",
    "ax.axis(ylim = (-5.9,  5.9))\n",
    "plt.legend(loc = 'upper right')\n",
    "plt.tight_layout()\n",
    "#plt.savefig('complex_pgf/comp_hor_input.pgf')"
   ]
  },
  {
   "cell_type": "markdown",
   "metadata": {},
   "source": [
    "### Plot the states of the generated path"
   ]
  },
  {
   "cell_type": "code",
   "execution_count": null,
   "metadata": {},
   "outputs": [],
   "source": [
    "#plot the states for the input sequence\n",
    "plt.rcParams['figure.figsize'] = 5.8, 3\n",
    "quadrotor = Quadrotor(m=m)\n",
    "result_a,t_a = quadrotor.solve(ts,xi,input_seq_a[:,0], input_seq_a[:,1],input_seq_a[:,2], t_eval = 0.001)\n",
    "quadrotor.plot_states()\n",
    "plt.tight_layout()"
   ]
  },
  {
   "cell_type": "markdown",
   "metadata": {},
   "source": [
    "### Plot the nodes generated by the search algorithm"
   ]
  },
  {
   "cell_type": "code",
   "execution_count": null,
   "metadata": {},
   "outputs": [],
   "source": [
    "print (\"Number of nodes: \",len(astar_search.nodes_list))\n",
    "PlotPlanning.plot_nodes_astar(astar_search.nodes_list)"
   ]
  },
  {
   "cell_type": "markdown",
   "metadata": {},
   "source": [
    "### Plot the path executed"
   ]
  },
  {
   "cell_type": "code",
   "execution_count": null,
   "metadata": {},
   "outputs": [],
   "source": [
    "fig = plt.figure(figsize=(5.8, 1.5))\n",
    "plt.ylim(ymax = .5, ymin = -1)\n",
    "positions = [0, 500, 1000, 2000, 3000,3000, 4000, 5000,5900,6600]\n",
    "PlotPlanning.plot_position(result_a,t_a,positions )\n",
    "plt.tight_layout()\n",
    "#plt.savefig('complex_pgf/comp_hor_path.pgf')"
   ]
  },
  {
   "cell_type": "code",
   "execution_count": null,
   "metadata": {},
   "outputs": [],
   "source": []
  },
  {
   "cell_type": "code",
   "execution_count": null,
   "metadata": {},
   "outputs": [],
   "source": []
  },
  {
   "cell_type": "code",
   "execution_count": null,
   "metadata": {},
   "outputs": [],
   "source": [
    "#function to plot the nodes generated by the algorithm\n",
    "def plot_nodes_astar(node_list, ymin = None, ymax = None):\n",
    "    L = 0.5\n",
    "\n",
    "    #Add limits if necessary\n",
    "    if ymin != None:\n",
    "        plt.ylim(ymin , ymax) \n",
    "    z = []\n",
    "    x = []\n",
    "    a = []\n",
    "    visited = []\n",
    "    \n",
    "    #get z,x,alpha for all nodes\n",
    "    for node in node_list:\n",
    "        state = node.state\n",
    "        visited.append(node.visited)\n",
    "        z.append(state[0])\n",
    "        x.append(state[2])\n",
    "        a.append(state[4])\n",
    "        \n",
    "    #calculate pos of mas\n",
    "    z_mass_a = z-L*np.cos(a)\n",
    "    x_mass_a = x-L*np.sin(a)\n",
    "    \n",
    "    x_visited = np.array(x)[visited]\n",
    "    z_visited = np.array(z)[visited]\n",
    "    x_mass_visited = np.array(x_mass_a)[visited]\n",
    "    z_mass_visited = np.array(z_mass_a)[visited]\n",
    "    \n",
    "    plt.title(\"Nodes Generated\")\n",
    "    plt.ylabel(\"Z Position\")\n",
    "    plt.xlabel(\"X Position\")\n",
    "    \n",
    "    #plot all nodes\n",
    "    plt.scatter(x,z, c = 'C0', label = 'Nodes Not Visited', marker = '.')\n",
    "\n",
    "    #plot visited nodes\n",
    "    plt.scatter(x_visited,z_visited, c = 'C2', label = 'Nodes Visited', marker = '.')\n",
    "    plt.legend(loc = 'best')"
   ]
  },
  {
   "cell_type": "markdown",
   "metadata": {},
   "source": [
    "### Horizontal Flight with no Obstacle\n",
    "\n",
    "This is a basic test example, with no horizontal or vertical obstacles. The quadrotor flies from an initial position to a goal region, with no obstacles in the way."
   ]
  },
  {
   "cell_type": "code",
   "execution_count": null,
   "metadata": {},
   "outputs": [],
   "source": [
    "#define the boundaries of the environment\n",
    "def bounds(y):\n",
    "    #unpack the state variables\n",
    "    z_quad = y[0,:]\n",
    "    zd_quad = y[1,:]\n",
    "    x_quad = y[2,:]\n",
    "    xd_quad = y[3,:]\n",
    "    a = y[4,:]\n",
    "    ad = y[5,:]\n",
    "    \n",
    "    L = 0.5\n",
    "    \n",
    "    #calculate the position of the mass\n",
    "    z_mass = z_quad-L*np.cos(a)\n",
    "    x_mass = x_quad-L*np.sin(a)\n",
    "    \n",
    "    is_valid = True\n",
    "    \n",
    "    # all values of x_mass, z_mass, alpha, x_quad, z_quad\n",
    "    for x_m, z_m, a_m, x_q, z_q, x_d in zip(x_mass,z_mass,a,x_quad,z_quad,xd_quad):\n",
    "        #limit Alpha\n",
    "        if (np.abs(a_m) > np.pi):\n",
    "            is_valid = False\n",
    "\n",
    "    return is_valid\n",
    "    "
   ]
  },
  {
   "cell_type": "code",
   "execution_count": null,
   "metadata": {},
   "outputs": [],
   "source": [
    "#define the goal objective\n",
    "def goal(x):\n",
    "    z_pos = x[0]\n",
    "    z_dot = x[1]\n",
    "    x_pos = x[2]\n",
    "    x_dot = x[3]\n",
    "    a = x[4]\n",
    "    a_dot = x[5]\n",
    "    goal = True\n",
    "    if (x_pos < 10):\n",
    "        goal = False\n",
    "    if (z_pos > 0.5):\n",
    "        goal = False  \n",
    "    if (z_pos < -0.5):\n",
    "        goal = False         \n",
    "    if (np.abs(x_dot) > 1):\n",
    "        goal = False    \n",
    "    if goal:\n",
    "        print (\"Success\")\n",
    "    return goal"
   ]
  },
  {
   "cell_type": "code",
   "execution_count": null,
   "metadata": {},
   "outputs": [],
   "source": [
    "#get the cost of an specific action\n",
    "def cost_to_come_a(x,u_type,node):\n",
    "    #return a fixed cost except for obstacle avoidance action\n",
    "    cost = 0.1\n",
    "    if u_type ==9:\n",
    "        cost = 5\n",
    "    return cost\n",
    "\n",
    "def cost_to_go_a(x):\n",
    "    x_goal = 10\n",
    "    z_goal = 0\n",
    "    z_quad = x[0]\n",
    "    x_quad = x[2]\n",
    "    return (np.sqrt((x_goal - x_quad)**2 + (z_goal - z_quad)**2))"
   ]
  },
  {
   "cell_type": "code",
   "execution_count": null,
   "metadata": {},
   "outputs": [],
   "source": [
    "#initialise the algorithm\n",
    "#funstion receives:\n",
    "# Initial State\n",
    "# Goal state\n",
    "# Input set\n",
    "# Function stating if input is valid\n",
    "# Cost_to_come function\n",
    "# Estimate cost_to_go function\n",
    "# Boundaries of the environment\n",
    "astar_search = Astar(xi,goal,U,valid_u,f,cost_to_come_a,cost_to_go_a,bounds)\n",
    "#search for the path\n",
    "path_a = astar_search.search_path()\n"
   ]
  },
  {
   "cell_type": "code",
   "execution_count": null,
   "metadata": {},
   "outputs": [],
   "source": [
    "#plot the nodes generated by the search algorithm\n",
    "print (\"Number of nodes: \",len(astar_search.nodes_list))\n",
    "fig = plt.figure(figsize=(3, 3))\n",
    "#plt.ylim(ymax = 5.5, ymin = -1)\n",
    "plot_nodes_astar(astar_search.nodes_list)\n",
    "#overlay_bounds()\n",
    "\n",
    "#plt.savefig('force_based_nodes.pgf')"
   ]
  },
  {
   "cell_type": "code",
   "execution_count": null,
   "metadata": {},
   "outputs": [],
   "source": [
    "\n",
    "\n",
    "\n"
   ]
  },
  {
   "cell_type": "code",
   "execution_count": null,
   "metadata": {},
   "outputs": [],
   "source": [
    "#plot the input sequence\n",
    "Tsample = ts\n",
    "k = 0\n",
    "t = []\n",
    "vz = []\n",
    "vx = []\n",
    "for u in input_seq_a:\n",
    "    t.append(k*Tsample)\n",
    "    t.append((k+1)*Tsample)\n",
    "    vz.append(u[0])\n",
    "    vz.append(u[0])\n",
    "    vx.append(u[1])\n",
    "    vx.append(u[1])\n",
    "    k += 1\n",
    "\n",
    "fig = plt.figure(figsize= [5.8, 1.5])\n",
    "ax = fig.add_subplot(111)\n",
    "fig.subplots_adjust(top=0.85)\n",
    "#ax.set_title('Desired Input Sequence')\n",
    "ax.set_title(r'Input Commands')\n",
    "ax.set_xlabel(r'Time $t_{s}$ (s)')\n",
    "ax.set_ylabel('Input')\n",
    "\n",
    "#ax.axis([-0.1, 3.5, -5.9,  5.9])\n",
    "\n",
    "\n",
    "plt.ylim(ymin = -3, ymax =3)\n",
    "t_pos = 0\n",
    "plt.plot([0,0],[-6,6], color = 'grey', ls = ':', lw = 0.5)\n",
    "for n in astar_search.path:\n",
    "    duration = U[n.input_type].shape[0]\n",
    "    plt.plot([t_pos + ts*duration,t_pos + ts*duration],[-6,6], color = 'grey', ls = ':', lw = 0.5)\n",
    "    t_pos += ts*duration\n",
    "\n",
    "plt.plot(t, vz, label = r\"$\\dot{z}_{ref}$\")\n",
    "plt.plot(t, vx, label = r\"$\\dot{x}_{ref}$\")\n",
    "ax.axis(ylim = (-5.9,  5.9))\n",
    "plt.legend(loc = 'upper right')\n",
    "plt.tight_layout()\n",
    "#plt.savefig('complex_pgf/comp_hor_input.pgf')\n"
   ]
  },
  {
   "cell_type": "code",
   "execution_count": null,
   "metadata": {},
   "outputs": [],
   "source": [
    "#plot the states for the input sequence\n",
    "plt.rcParams['figure.figsize'] = 5.8, 3\n",
    "quadrotor = Quadrotor(m=m)\n",
    "result_a,t_a = quadrotor.solve(ts,xi,input_seq_a[:,0], input_seq_a[:,1],input_seq_a[:,2], t_eval = 0.001)\n",
    "quadrotor.plot_states()\n",
    "plt.tight_layout()\n",
    "#plt.savefig('force_plant_states.pgf')"
   ]
  },
  {
   "cell_type": "code",
   "execution_count": null,
   "metadata": {},
   "outputs": [],
   "source": [
    "#Plot the payload swing over time\n",
    "fig = plt.figure(figsize=(5.8, 1.5))\n",
    "plt.title(r\"Payload Swing $(\\alpha)$ over Time\")\n",
    "plt.xlabel(\"Time (s)\")\n",
    "plt.ylabel(\"Angle (Deg)\")\n",
    "plt.plot(t_a,result_a[4,:]*180/np.pi)\n",
    "plt.tight_layout()\n",
    "#plt.savefig('complex_pgf/comp_hor_alpha.pgf')"
   ]
  },
  {
   "cell_type": "markdown",
   "metadata": {},
   "source": [
    "### Plot the path executed"
   ]
  },
  {
   "cell_type": "code",
   "execution_count": null,
   "metadata": {},
   "outputs": [],
   "source": [
    "#Function for plotting the position of the quadrotor woth suspended payload\n",
    "def plot_position(result_a,t_a,positions):\n",
    "\n",
    " \n",
    "    z_quad_a = result_a[0,:]\n",
    "    x_quad_a = result_a[2,:]\n",
    "    alpha_a = result_a[4,:]\n",
    "    L = 0.5\n",
    "\n",
    "    z_mass_a = z_quad_a-L*np.cos(alpha_a)\n",
    "    x_mass_a = x_quad_a-L*np.sin(alpha_a)                 \n",
    "    plt.title(\"Path Followed by Quadrotor\")\n",
    "    plt.plot(x_mass_a, z_mass_a, label = 'Mass', ls ='--', lw = 0.5)\n",
    "    plt.plot(x_quad_a,z_quad_a, label = 'Quadrotor', ls ='--', color = 'tab:blue', lw = 0.5)           \n",
    "    for p in positions:\n",
    "        link = plt.Line2D((x_quad_a[p], x_mass_a[p]), (z_quad_a[p], z_mass_a[p]), lw=0.5, color = 'k')\n",
    "        plt.gca().add_line(link)\n",
    "        mass = plt.Circle((x_mass_a[p], z_mass_a[p]), 0.07, fc='k')\n",
    "        plt.gca().add_patch(mass)\n",
    "\n",
    "    plt.xlabel('X Position')\n",
    "    plt.ylabel('Y Position')\n",
    "    #plt.legend(loc = 'best')\n",
    "    #plt.show()      "
   ]
  },
  {
   "cell_type": "code",
   "execution_count": null,
   "metadata": {},
   "outputs": [],
   "source": [
    "fig = plt.figure(figsize=(5.8, 1.5))\n",
    "plt.ylim(ymax = .5, ymin = -1)\n",
    "positions = [0, 500, 1000, 2000, 3000,3000, 4000, 5000,5900,6600]\n",
    "plot_position(result_a,t_a,positions )\n",
    "plt.tight_layout()\n",
    "#plt.savefig('complex_pgf/comp_hor_path.pgf')"
   ]
  },
  {
   "cell_type": "markdown",
   "metadata": {},
   "source": [
    "## Export the planned path to a Matlab friendly environment"
   ]
  },
  {
   "cell_type": "code",
   "execution_count": null,
   "metadata": {},
   "outputs": [],
   "source": [
    "#Export the input sequence generated by the path planning algorithm\n",
    "input_seq_a = astar_search.get_input_seq()\n",
    "print (\"The input sequence:\")\n",
    "print (\"  r_z  r_x\")\n",
    "print (input_seq_a)\n",
    "numbers_needed = input_seq_a.shape[0]\n",
    "t = np.linspace(0,numbers_needed*ts,numbers_needed, endpoint = False)\n",
    "rz = input_seq_a[:,0]\n",
    "rx = input_seq_a[:,1]\n",
    "input_type = input_seq_a[:,2]\n",
    "sio.savemat('../example_trajectories/example1.mat', {'t':t.astype(float).T,'rz':rz.astype(float).T,'rx':rx.astype(float).T,'input_type':input_type.astype(float).T})"
   ]
  },
  {
   "cell_type": "code",
   "execution_count": null,
   "metadata": {},
   "outputs": [],
   "source": []
  }
 ],
 "metadata": {
  "kernelspec": {
   "display_name": "Python 3",
   "language": "python",
   "name": "python3"
  },
  "language_info": {
   "codemirror_mode": {
    "name": "ipython",
    "version": 3
   },
   "file_extension": ".py",
   "mimetype": "text/x-python",
   "name": "python",
   "nbconvert_exporter": "python",
   "pygments_lexer": "ipython3",
   "version": "3.7.4"
  }
 },
 "nbformat": 4,
 "nbformat_minor": 2
}
